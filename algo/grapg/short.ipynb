{
 "cells": [
  {
   "cell_type": "code",
   "execution_count": null,
   "metadata": {},
   "outputs": [
    {
     "ename": "",
     "evalue": "",
     "output_type": "error",
     "traceback": [
      "\u001b[1;31mRunning cells with 'Python 3.12.7' requires the ipykernel package.\n",
      "\u001b[1;31mRun the following command to install 'ipykernel' into the Python environment. \n",
      "\u001b[1;31mCommand: '/opt/homebrew/bin/python3.12 -m pip install ipykernel -U --user --force-reinstall'"
     ]
    }
   ],
   "source": [
    "# Initialize graph with infinity representing no direct path\n",
    "INF = float('inf')\n",
    "\n",
    "# Example graph as an adjacency matrix for 7 nodes (A to G)\n",
    "# Node layout:\n",
    "# A -> B = 3, A -> D = 7\n",
    "# B -> C = 2\n",
    "# C -> G = 5, C -> D = 1\n",
    "# D -> A = 2, D -> F = 4\n",
    "# E -> F = 6\n",
    "# F -> G = 3\n",
    "graph = [\n",
    "    [0, 3, INF, 7, INF, INF, INF],   # A\n",
    "    [INF, 0, 2, INF, INF, INF, INF], # B\n",
    "    [INF, INF, 0, 1, INF, INF, 5],   # C\n",
    "    [2, INF, INF, 0, INF, 4, INF],   # D\n",
    "    [INF, INF, INF, INF, 0, 6, INF], # E\n",
    "    [INF, INF, INF, INF, INF, 0, 3], # F\n",
    "    [INF, INF, INF, INF, INF, INF, 0]# G\n",
    "]\n",
    "\n",
    "# Floyd-Warshall algorithm\n",
    "def floyd_warshall(graph):\n",
    "    # Number of vertices\n",
    "    V = len(graph)\n",
    "    \n",
    "    # Distance matrix to store shortest paths\n",
    "    dist = [row[:] for row in graph]  # Copy the initial distances from graph\n",
    "\n",
    "    # Update distances using intermediate vertices\n",
    "    for k in range(V):\n",
    "        for i in range(V):\n",
    "            for j in range(V):\n",
    "                # Check if going through vertex k is shorter\n",
    "                if dist[i][j] > dist[i][k] + dist[k][j]:\n",
    "                    dist[i][j] = dist[i][k] + dist[k][j]\n",
    "\n",
    "    # Print the result\n",
    "    print(\"Shortest distances between every pair of vertices:\")\n",
    "    for i in range(V):\n",
    "        for j in range(V):\n",
    "            if dist[i][j] == INF:\n",
    "                print(\"INF\", end=\"\\t\")\n",
    "            else:\n",
    "                print(dist[i][j], end=\"\\t\")\n",
    "        print()\n",
    "\n",
    "# Run the algorithm\n",
    "floyd_warshall(graph)"
   ]
  }
 ],
 "metadata": {
  "kernelspec": {
   "display_name": "Python 3",
   "language": "python",
   "name": "python3"
  },
  "language_info": {
   "name": "python",
   "version": "3.12.7"
  }
 },
 "nbformat": 4,
 "nbformat_minor": 2
}
