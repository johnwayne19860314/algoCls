{
 "cells": [
  {
   "cell_type": "code",
   "execution_count": 1,
   "metadata": {},
   "outputs": [],
   "source": [
    "import heapq"
   ]
  },
  {
   "cell_type": "code",
   "execution_count": 2,
   "metadata": {},
   "outputs": [
    {
     "name": "stdout",
     "output_type": "stream",
     "text": [
      "[2, 2, 4, 7, 8, 5, 9]\n"
     ]
    }
   ],
   "source": [
    "hq = [5,2,4,7,8,2,9]\n",
    "heapq.heapify(hq)\n",
    "print(hq)"
   ]
  },
  {
   "cell_type": "code",
   "execution_count": 3,
   "metadata": {},
   "outputs": [
    {
     "name": "stdout",
     "output_type": "stream",
     "text": [
      "2\n",
      "[2, 7, 4, 9, 8, 5]\n"
     ]
    }
   ],
   "source": [
    "smallest_val = heapq.heappop(hq)\n",
    "print(smallest_val)\n",
    "print(hq)"
   ]
  },
  {
   "cell_type": "code",
   "execution_count": 4,
   "metadata": {},
   "outputs": [
    {
     "name": "stdout",
     "output_type": "stream",
     "text": [
      "2\n",
      "[4, 7, 4, 9, 8, 5]\n"
     ]
    }
   ],
   "source": [
    "val = heapq.heapreplace(hq,4)\n",
    "print(val)\n",
    "print(hq)"
   ]
  },
  {
   "cell_type": "code",
   "execution_count": 5,
   "metadata": {},
   "outputs": [
    {
     "name": "stdout",
     "output_type": "stream",
     "text": [
      "[1, 2, 3, 6, 9, 5]\n"
     ]
    }
   ],
   "source": [
    "heap = []\n",
    "heapq.heappush(heap,5)\n",
    "heapq.heappush(heap,6)\n",
    "heapq.heappush(heap,2)\n",
    "heapq.heappush(heap,1)\n",
    "heapq.heappush(heap,9)\n",
    "heapq.heappush(heap,3)\n",
    "print(heap)"
   ]
  },
  {
   "cell_type": "code",
   "execution_count": 9,
   "metadata": {},
   "outputs": [],
   "source": [
    "class MinHeap(object):\n",
    "    def __init__(self): self.h = []\n",
    "    def heappush(self,x): heapq.heappush(self.h,x)\n",
    "    def heappop(self): return heapq.heappop(self.h)\n",
    "    def __getitem__(self,i): return self.h[i]\n",
    "    def __len__(self): return len(self.h)"
   ]
  },
  {
   "cell_type": "code",
   "execution_count": 10,
   "metadata": {},
   "outputs": [
    {
     "name": "stdout",
     "output_type": "stream",
     "text": [
      "2\n"
     ]
    }
   ],
   "source": [
    "minH = MinHeap()\n",
    "minH.heappush(2)\n",
    "minH.heappush(4)\n",
    "print(minH[0])\n"
   ]
  },
  {
   "cell_type": "code",
   "execution_count": 11,
   "metadata": {},
   "outputs": [
    {
     "name": "stdout",
     "output_type": "stream",
     "text": [
      "2\n"
     ]
    }
   ],
   "source": [
    "print(minH.heappop())"
   ]
  },
  {
   "cell_type": "code",
   "execution_count": 13,
   "metadata": {},
   "outputs": [
    {
     "name": "stdout",
     "output_type": "stream",
     "text": [
      "[9, 6, 5, 1, 2, 3]\n"
     ]
    }
   ],
   "source": [
    "heapq._heapify_max(heap)\n",
    "print(heap)"
   ]
  },
  {
   "cell_type": "code",
   "execution_count": null,
   "metadata": {},
   "outputs": [],
   "source": [
    "# Linked List"
   ]
  }
 ],
 "metadata": {
  "kernelspec": {
   "display_name": "algo",
   "language": "python",
   "name": "python3"
  },
  "language_info": {
   "codemirror_mode": {
    "name": "ipython",
    "version": 3
   },
   "file_extension": ".py",
   "mimetype": "text/x-python",
   "name": "python",
   "nbconvert_exporter": "python",
   "pygments_lexer": "ipython3",
   "version": "3.12.5"
  }
 },
 "nbformat": 4,
 "nbformat_minor": 2
}
